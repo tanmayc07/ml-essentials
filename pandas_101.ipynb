{
  "nbformat": 4,
  "nbformat_minor": 0,
  "metadata": {
    "colab": {
      "provenance": [],
      "authorship_tag": "ABX9TyOTJzB/iLL+QQ7NuSIVTdKK",
      "include_colab_link": true
    },
    "kernelspec": {
      "name": "python3",
      "display_name": "Python 3"
    },
    "language_info": {
      "name": "python"
    }
  },
  "cells": [
    {
      "cell_type": "markdown",
      "metadata": {
        "id": "view-in-github",
        "colab_type": "text"
      },
      "source": [
        "<a href=\"https://colab.research.google.com/github/tanmayc07/ml-essentials/blob/main/pandas_101.ipynb\" target=\"_parent\"><img src=\"https://colab.research.google.com/assets/colab-badge.svg\" alt=\"Open In Colab\"/></a>"
      ]
    },
    {
      "cell_type": "code",
      "execution_count": 1,
      "metadata": {
        "id": "ZJZkG_CbUak2"
      },
      "outputs": [],
      "source": [
        "import numpy as np"
      ]
    },
    {
      "cell_type": "code",
      "source": [
        "# Defining array manually\n",
        "# Creating a 2x2 matrix\n",
        "\n",
        "np.array([[1,2],[3,4]])"
      ],
      "metadata": {
        "colab": {
          "base_uri": "https://localhost:8080/"
        },
        "id": "Dge9JkxCZSUK",
        "outputId": "e75b3f2b-e165-46e3-bdd0-4826c1907c93"
      },
      "execution_count": 3,
      "outputs": [
        {
          "output_type": "execute_result",
          "data": {
            "text/plain": [
              "array([[1, 2],\n",
              "       [3, 4]])"
            ]
          },
          "metadata": {},
          "execution_count": 3
        }
      ]
    },
    {
      "cell_type": "code",
      "source": [
        "# Numpy has functions to generate arrays without\n",
        "# entering elements manually\n",
        "\n",
        "np.arange(1, 5)     # [1,5)"
      ],
      "metadata": {
        "colab": {
          "base_uri": "https://localhost:8080/"
        },
        "id": "QAMmDFRGZzTT",
        "outputId": "a773f744-254f-4f93-9f24-5b10e08cb53f"
      },
      "execution_count": 4,
      "outputs": [
        {
          "output_type": "execute_result",
          "data": {
            "text/plain": [
              "array([1, 2, 3, 4])"
            ]
          },
          "metadata": {},
          "execution_count": 4
        }
      ]
    },
    {
      "cell_type": "code",
      "source": [
        "np.arange(0, 10, 2) # third param is step"
      ],
      "metadata": {
        "colab": {
          "base_uri": "https://localhost:8080/"
        },
        "id": "9PMT8XbQjcN2",
        "outputId": "435d24c1-b5bf-4c69-b9d3-0c0c3779b999"
      },
      "execution_count": 53,
      "outputs": [
        {
          "output_type": "execute_result",
          "data": {
            "text/plain": [
              "array([0, 2, 4, 6, 8])"
            ]
          },
          "metadata": {},
          "execution_count": 53
        }
      ]
    },
    {
      "cell_type": "code",
      "source": [
        "# linspace is used instead of arange for floats\n",
        "np.linspace(0.1, 2.0, 5) # third param is number of elems"
      ],
      "metadata": {
        "colab": {
          "base_uri": "https://localhost:8080/"
        },
        "id": "PFdKh5nKjERA",
        "outputId": "7118ce09-c7bb-4884-d7d4-c01da9a49008"
      },
      "execution_count": 52,
      "outputs": [
        {
          "output_type": "execute_result",
          "data": {
            "text/plain": [
              "array([0.1  , 0.575, 1.05 , 1.525, 2.   ])"
            ]
          },
          "metadata": {},
          "execution_count": 52
        }
      ]
    },
    {
      "cell_type": "code",
      "source": [
        "# Creating arrays with initalized values\n",
        "\n",
        "print( np.zeros((3, 1)) )    # shape in () as arg\n",
        "\n",
        "print( np.ones((3, 1)) )\n",
        "\n",
        "print( np.full((2, 3), 7) )    # repeat 7"
      ],
      "metadata": {
        "colab": {
          "base_uri": "https://localhost:8080/"
        },
        "id": "n6eBERWwac84",
        "outputId": "548f8cf7-eb71-4fc1-fd8c-fba0d28a38ec"
      },
      "execution_count": 8,
      "outputs": [
        {
          "output_type": "stream",
          "name": "stdout",
          "text": [
            "[[0.]\n",
            " [0.]\n",
            " [0.]]\n",
            "[[1.]\n",
            " [1.]\n",
            " [1.]]\n",
            "[[7 7 7]\n",
            " [7 7 7]]\n"
          ]
        }
      ]
    },
    {
      "cell_type": "code",
      "source": [
        "# shape\n",
        "vector = np.arange(5)\n",
        "print(f'vector shape: {vector.shape}')\n",
        "\n",
        "matrix = np.ones([3, 2])\n",
        "print(f'matrix shape: {matrix.shape}')\n",
        "\n",
        "tensor = np.full([2, 4, 5], 10)\n",
        "print(f'tensor shape: {tensor.shape}')  # Tensor is like a set of matrices so first 2 in shape denotes number of matrices/slices"
      ],
      "metadata": {
        "colab": {
          "base_uri": "https://localhost:8080/"
        },
        "id": "KbY0Rp_pawWV",
        "outputId": "02bada3f-17c5-4156-b241-b1a99819d383"
      },
      "execution_count": 21,
      "outputs": [
        {
          "output_type": "stream",
          "name": "stdout",
          "text": [
            "vector shape: (5,)\n",
            "matrix shape: (3, 2)\n",
            "tensor shape: (2, 4, 5)\n"
          ]
        }
      ]
    },
    {
      "cell_type": "code",
      "source": [
        "tensor"
      ],
      "metadata": {
        "colab": {
          "base_uri": "https://localhost:8080/"
        },
        "id": "Roq_LPMIbaIn",
        "outputId": "7e38f03a-6633-491b-c411-565f5e4ec798"
      },
      "execution_count": 20,
      "outputs": [
        {
          "output_type": "execute_result",
          "data": {
            "text/plain": [
              "array([[[10, 10, 10, 10, 10],\n",
              "        [10, 10, 10, 10, 10],\n",
              "        [10, 10, 10, 10, 10],\n",
              "        [10, 10, 10, 10, 10]],\n",
              "\n",
              "       [[10, 10, 10, 10, 10],\n",
              "        [10, 10, 10, 10, 10],\n",
              "        [10, 10, 10, 10, 10],\n",
              "        [10, 10, 10, 10, 10]]])"
            ]
          },
          "metadata": {},
          "execution_count": 20
        }
      ]
    },
    {
      "cell_type": "code",
      "source": [
        "# Array with random values generation using new interface\n",
        "rng = np.random.default_rng()\n",
        "rng.integers(0, 10, 3)"
      ],
      "metadata": {
        "colab": {
          "base_uri": "https://localhost:8080/"
        },
        "id": "5Hk3U09ykQx1",
        "outputId": "fc20683b-66f9-4020-a0c0-5bb000b5558a"
      },
      "execution_count": 54,
      "outputs": [
        {
          "output_type": "execute_result",
          "data": {
            "text/plain": [
              "array([9, 2, 7])"
            ]
          },
          "metadata": {},
          "execution_count": 54
        }
      ]
    },
    {
      "cell_type": "code",
      "source": [
        "print(rng.random(10))\n",
        "print(rng.uniform(1, 10, 3))\n",
        "'''\n",
        "others:\n",
        "rng.standard_normal(3)\n",
        "rng.normal(5, 2, 3)\n",
        "'''"
      ],
      "metadata": {
        "colab": {
          "base_uri": "https://localhost:8080/",
          "height": 89
        },
        "id": "ork9wWR1kgz2",
        "outputId": "8bb83090-b3f9-42dc-e623-9eaff0fabdc5"
      },
      "execution_count": 57,
      "outputs": [
        {
          "output_type": "stream",
          "name": "stdout",
          "text": [
            "[0.6015621  0.52280571 0.65674964 0.50917834 0.891459   0.10477051\n",
            " 0.4681809  0.40524662 0.21257832 0.11622888]\n",
            "[7.53930375 8.05139299 8.54745162]\n"
          ]
        },
        {
          "output_type": "execute_result",
          "data": {
            "text/plain": [
              "'\\nothers:\\nrng.standard_normal(3)\\nrng.normal(5, 2, 3)\\n'"
            ],
            "application/vnd.google.colaboratory.intrinsic+json": {
              "type": "string"
            }
          },
          "metadata": {},
          "execution_count": 57
        }
      ]
    },
    {
      "cell_type": "code",
      "source": [
        "# Reshaping the arrays\n",
        "arr = np.arange(1, 10)\n",
        "print(arr)\n",
        "\n",
        "arr = arr.reshape(3, 3)  # Number of elements should remain same, (3,4) will give error\n",
        "print(arr)\n",
        "\n",
        "arr = arr.reshape(9)    # back to original size\n",
        "print(arr)"
      ],
      "metadata": {
        "colab": {
          "base_uri": "https://localhost:8080/"
        },
        "id": "DRhomgkJcKPa",
        "outputId": "4ffc60b3-8cdd-48db-f4ad-612d169e817c"
      },
      "execution_count": 25,
      "outputs": [
        {
          "output_type": "stream",
          "name": "stdout",
          "text": [
            "[1 2 3 4 5 6 7 8 9]\n",
            "[[1 2 3]\n",
            " [4 5 6]\n",
            " [7 8 9]]\n",
            "[1 2 3 4 5 6 7 8 9]\n"
          ]
        }
      ]
    },
    {
      "cell_type": "code",
      "source": [
        "arr = np.arange(0, 12).reshape(2, -1)   # -1 to infer the correct no of digits\n",
        "print(arr)"
      ],
      "metadata": {
        "colab": {
          "base_uri": "https://localhost:8080/"
        },
        "id": "KpCA3QJccxhr",
        "outputId": "fe006dab-d5bb-4767-ec42-75218f083e5b"
      },
      "execution_count": 31,
      "outputs": [
        {
          "output_type": "stream",
          "name": "stdout",
          "text": [
            "[[ 0  1  2  3  4  5]\n",
            " [ 6  7  8  9 10 11]]\n"
          ]
        }
      ]
    },
    {
      "cell_type": "code",
      "source": [
        "# Transpose of an array\n",
        "arr = np.arange(6).reshape((2,3))\n",
        "print(arr)\n",
        "print(arr.T) # also arr.transpose()"
      ],
      "metadata": {
        "colab": {
          "base_uri": "https://localhost:8080/"
        },
        "id": "ouyijasWnYAm",
        "outputId": "b66091e9-4852-4345-aa08-e283f8ad2d25"
      },
      "execution_count": 69,
      "outputs": [
        {
          "output_type": "stream",
          "name": "stdout",
          "text": [
            "[[0 1 2]\n",
            " [3 4 5]]\n",
            "[[0 3]\n",
            " [1 4]\n",
            " [2 5]]\n"
          ]
        }
      ]
    },
    {
      "cell_type": "code",
      "source": [
        "# dtype provides type information\n",
        "arr.dtype.type"
      ],
      "metadata": {
        "colab": {
          "base_uri": "https://localhost:8080/"
        },
        "id": "3_X_GlcldJkJ",
        "outputId": "c3d6c660-bb1b-4c1c-fc07-354f2dd9b582"
      },
      "execution_count": 33,
      "outputs": [
        {
          "output_type": "execute_result",
          "data": {
            "text/plain": [
              "numpy.int64"
            ]
          },
          "metadata": {},
          "execution_count": 33
        }
      ]
    },
    {
      "cell_type": "code",
      "source": [
        "# Indexing\n",
        "\n",
        "arr = np.arange(1, 17).reshape(4, -1)\n",
        "print(arr)\n",
        "print(f'arr[1, 2:4]:{arr[1,2:4]}')\n",
        "print(f'arr[1:3, 1:3]: {arr[1:3, 1:3]}')\n",
        "print(arr[:, 1])"
      ],
      "metadata": {
        "colab": {
          "base_uri": "https://localhost:8080/"
        },
        "id": "8XFhHxdUdl9-",
        "outputId": "9094ac2e-5f47-451a-8cde-aafb884fcbb5"
      },
      "execution_count": 37,
      "outputs": [
        {
          "output_type": "stream",
          "name": "stdout",
          "text": [
            "[[ 1  2  3  4]\n",
            " [ 5  6  7  8]\n",
            " [ 9 10 11 12]\n",
            " [13 14 15 16]]\n",
            "arr[1, 2:4]:[7 8]\n",
            "arr[1:3, 1:3]: [[ 6  7]\n",
            " [10 11]]\n",
            "[ 2  6 10 14]\n"
          ]
        }
      ]
    },
    {
      "cell_type": "code",
      "source": [
        "arr[1::2, ::2]  # 1: means every row after 1 and :2 means step of 2, ::2 means every column but step of 2"
      ],
      "metadata": {
        "colab": {
          "base_uri": "https://localhost:8080/"
        },
        "id": "VscGCtxGediF",
        "outputId": "9e61ba97-64a7-4fb0-c5d3-0824816c0f4e"
      },
      "execution_count": 39,
      "outputs": [
        {
          "output_type": "execute_result",
          "data": {
            "text/plain": [
              "array([[ 5,  7],\n",
              "       [13, 15]])"
            ]
          },
          "metadata": {},
          "execution_count": 39
        }
      ]
    },
    {
      "cell_type": "code",
      "source": [
        "# Explicitly specifying columns\n",
        "arr[1:3, [2,3]]"
      ],
      "metadata": {
        "colab": {
          "base_uri": "https://localhost:8080/"
        },
        "id": "TM3gvdNffCZy",
        "outputId": "d23621ac-45b6-41e5-aae9-46b9f140597c"
      },
      "execution_count": 40,
      "outputs": [
        {
          "output_type": "execute_result",
          "data": {
            "text/plain": [
              "array([[ 7,  8],\n",
              "       [11, 12]])"
            ]
          },
          "metadata": {},
          "execution_count": 40
        }
      ]
    },
    {
      "cell_type": "code",
      "source": [
        "# Concatenating\n",
        "\n",
        "a1 = arr[:2, :] # First 2 rows\n",
        "a1"
      ],
      "metadata": {
        "colab": {
          "base_uri": "https://localhost:8080/"
        },
        "id": "im4U4hEcgFzH",
        "outputId": "395d8792-e237-4bdb-b628-36009dda7b7a"
      },
      "execution_count": 43,
      "outputs": [
        {
          "output_type": "execute_result",
          "data": {
            "text/plain": [
              "array([[1, 2, 3, 4],\n",
              "       [5, 6, 7, 8]])"
            ]
          },
          "metadata": {},
          "execution_count": 43
        }
      ]
    },
    {
      "cell_type": "code",
      "source": [
        "a2 = arr[-1:, :]    # Last 1 row\n",
        "a2"
      ],
      "metadata": {
        "colab": {
          "base_uri": "https://localhost:8080/"
        },
        "id": "tuhrQUnwgunK",
        "outputId": "7461c76e-92be-4bdd-fc20-08c7c545cb03"
      },
      "execution_count": 42,
      "outputs": [
        {
          "output_type": "execute_result",
          "data": {
            "text/plain": [
              "array([[13, 14, 15, 16]])"
            ]
          },
          "metadata": {},
          "execution_count": 42
        }
      ]
    },
    {
      "cell_type": "code",
      "source": [
        "new_arr = np.vstack((a1, a2))   # vstack concatenates row one after another\n",
        "new_arr"
      ],
      "metadata": {
        "colab": {
          "base_uri": "https://localhost:8080/"
        },
        "id": "VPX2ch5cg-sj",
        "outputId": "0017d253-68da-4eee-df09-32e512d842f6"
      },
      "execution_count": 45,
      "outputs": [
        {
          "output_type": "execute_result",
          "data": {
            "text/plain": [
              "array([[ 1,  2,  3,  4],\n",
              "       [ 5,  6,  7,  8],\n",
              "       [13, 14, 15, 16]])"
            ]
          },
          "metadata": {},
          "execution_count": 45
        }
      ]
    },
    {
      "cell_type": "code",
      "source": [
        "# np.hstack will concatenate columns and np.concatenate((start, end), axis=_ ) will concatenate higher dimensional arrays along axis specified"
      ],
      "metadata": {
        "id": "eMNj46vshPlf"
      },
      "execution_count": 46,
      "outputs": []
    },
    {
      "cell_type": "code",
      "source": [
        "# Splitting the arrays\n",
        "'''\n",
        "hsplit: splits along the horizontal axis\n",
        "vsplit: splits along the vertical axis\n",
        "dsplit: Splits an array along the 3rd axis (depth)\n",
        "array_split: lets you specify the axis to use in splitting\n",
        "'''"
      ],
      "metadata": {
        "colab": {
          "base_uri": "https://localhost:8080/",
          "height": 53
        },
        "id": "m_nVChCnhg6w",
        "outputId": "c4ede817-bbcd-4b50-fd28-529e21c77e59"
      },
      "execution_count": 47,
      "outputs": [
        {
          "output_type": "execute_result",
          "data": {
            "text/plain": [
              "'\\nhsplit: splits along the horizontal axis\\nvsplit: splits along the vertical axis\\ndsplit: Splits an array along the 3rd axis (depth)\\narray_split: lets you specify the axis to use in splitting\\n'"
            ],
            "application/vnd.google.colaboratory.intrinsic+json": {
              "type": "string"
            }
          },
          "metadata": {},
          "execution_count": 47
        }
      ]
    },
    {
      "cell_type": "code",
      "source": [
        "# Vector operations\n",
        "np.array([2, 3])**2"
      ],
      "metadata": {
        "colab": {
          "base_uri": "https://localhost:8080/"
        },
        "id": "D5taUGc9htaM",
        "outputId": "f309875b-110d-4ff1-94d7-d75be1343fa3"
      },
      "execution_count": 58,
      "outputs": [
        {
          "output_type": "execute_result",
          "data": {
            "text/plain": [
              "array([4, 9])"
            ]
          },
          "metadata": {},
          "execution_count": 58
        }
      ]
    },
    {
      "cell_type": "code",
      "source": [
        "print(np.sqrt( np.array( [4, 9] ) ))\n",
        "print(np.exp( np.array( [1, 2] ) ))\n",
        "print(np.log( np.array( [np.e, np.e**2] ) ))"
      ],
      "metadata": {
        "colab": {
          "base_uri": "https://localhost:8080/"
        },
        "id": "me6H3yf5lY1B",
        "outputId": "5cdbfc99-e4af-41b1-a547-2fb882cddba5"
      },
      "execution_count": 61,
      "outputs": [
        {
          "output_type": "stream",
          "name": "stdout",
          "text": [
            "[2. 3.]\n",
            "[2.71828183 7.3890561 ]\n",
            "[1. 2.]\n"
          ]
        }
      ]
    },
    {
      "cell_type": "code",
      "source": [
        "# Dot and Cross Products\n",
        "# a.b\n",
        "a = np.array([1, 2])\n",
        "b = np.array([3, 4])\n",
        "\n",
        "dot1 = np.dot(a, b)\n",
        "dot2 = a @ b\n",
        "\n",
        "print(f'{dot1} {dot2}')\n",
        "\n",
        "# axb\n",
        "print(f'axb = {np.cross( np.array([2,0,0]), np.array([0,3,0]) )}')"
      ],
      "metadata": {
        "colab": {
          "base_uri": "https://localhost:8080/"
        },
        "id": "APoxnoI9lkn8",
        "outputId": "a9dee84f-1914-4b25-834c-7f2dcb95b301"
      },
      "execution_count": 66,
      "outputs": [
        {
          "output_type": "stream",
          "name": "stdout",
          "text": [
            "11 11\n",
            "axb = [0 0 6]\n"
          ]
        }
      ]
    },
    {
      "cell_type": "code",
      "source": [],
      "metadata": {
        "id": "M1OCc0mJoxGw"
      },
      "execution_count": null,
      "outputs": []
    }
  ]
}